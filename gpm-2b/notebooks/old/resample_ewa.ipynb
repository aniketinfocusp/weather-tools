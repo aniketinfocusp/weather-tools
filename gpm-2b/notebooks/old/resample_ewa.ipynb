{
 "cells": [
  {
   "attachments": {},
   "cell_type": "markdown",
   "metadata": {},
   "source": [
    "## Resampling using EWA\n"
   ]
  },
  {
   "cell_type": "code",
   "execution_count": 40,
   "metadata": {},
   "outputs": [],
   "source": [
    "import numpy as np\n",
    "import xarray as xr\n",
    "import h5py\n",
    "import rasterio\n",
    "\n",
    "from rasterio.io import DatasetWriter\n",
    "from rasterio.transform import from_origin\n",
    "from pyresample import kd_tree, geometry, create_area_def\n",
    "import matplotlib.pyplot as plt\n",
    "from pyresample.ewa import DaskEWAResampler\n"
   ]
  },
  {
   "cell_type": "code",
   "execution_count": 76,
   "metadata": {},
   "outputs": [],
   "source": [
    "name = '2A.GPM.Ku.V9-20211125.20230101-S013441-E030713.050239.V07A.hdf5'\n",
    "\n",
    "filename = f'/home/aniket/aniket-backup/anthromet/imerg-data/ku/{name}'"
   ]
  },
  {
   "cell_type": "code",
   "execution_count": 136,
   "metadata": {},
   "outputs": [],
   "source": [
    "data = h5py.File(filename, 'r')\n",
    "\n",
    "longitude = data['/FS/Longitude'][:]\n",
    "latitude = data['/FS/Latitude'][:]\n",
    "elevation = data['/FS/PRE/elevation'][:]\n",
    "\n",
    "resolution = 0.01"
   ]
  },
  {
   "cell_type": "code",
   "execution_count": 79,
   "metadata": {},
   "outputs": [
    {
     "data": {
      "text/plain": [
       "(7933, 49)"
      ]
     },
     "execution_count": 79,
     "metadata": {},
     "output_type": "execute_result"
    }
   ],
   "source": [
    "longitude.shape"
   ]
  },
  {
   "cell_type": "code",
   "execution_count": 137,
   "metadata": {},
   "outputs": [],
   "source": [
    "crs = rasterio.crs.CRS.from_epsg(4326)\n",
    "\n",
    "swath_def = geometry.SwathDefinition(lons=longitude, lats=latitude)\n",
    "\n",
    "area_def = create_area_def('world',\n",
    "                           crs,\n",
    "                           area_extent=[-180, -70, 180, 70],\n",
    "                           resolution=resolution)\n",
    "\n",
    "transform = from_origin(-180, 70, resolution, resolution)"
   ]
  },
  {
   "cell_type": "code",
   "execution_count": 138,
   "metadata": {},
   "outputs": [],
   "source": [
    "resampler = DaskEWAResampler(swath_def, area_def)\n"
   ]
  },
  {
   "cell_type": "code",
   "execution_count": 139,
   "metadata": {},
   "outputs": [
    {
     "data": {
      "text/plain": [
       "array([[nan, nan, nan, ..., nan, nan, nan],\n",
       "       [nan, nan, nan, ..., nan, nan, nan],\n",
       "       [nan, nan, nan, ..., nan, nan, nan],\n",
       "       ...,\n",
       "       [nan, nan, nan, ..., nan, nan, nan],\n",
       "       [nan, nan, nan, ..., nan, nan, nan],\n",
       "       [nan, nan, nan, ..., nan, nan, nan]], dtype=float32)"
      ]
     },
     "execution_count": 139,
     "metadata": {},
     "output_type": "execute_result"
    }
   ],
   "source": [
    "rows_per_scan = 7933\n",
    "result = resampler.resample(elevation, rows_per_scan=rows_per_scan, weight_distance_max=5000, weight_delta_max=0)\n",
    "\n",
    "result"
   ]
  },
  {
   "cell_type": "code",
   "execution_count": 140,
   "metadata": {},
   "outputs": [],
   "source": [
    "output_file = 'ewa_24.tif'\n",
    "\n",
    "with rasterio.open(output_file, 'w', driver='GTiff', height=result.shape[0], width=result.shape[1],\n",
    "                   count=1, dtype=result.dtype, crs=crs, transform=transform, nodata=np.nan, compress='lzw') as dst:\n",
    "    dst.write(result, 1)"
   ]
  }
 ],
 "metadata": {
  "kernelspec": {
   "display_name": "weather-tools",
   "language": "python",
   "name": "python3"
  },
  "language_info": {
   "codemirror_mode": {
    "name": "ipython",
    "version": 3
   },
   "file_extension": ".py",
   "mimetype": "text/x-python",
   "name": "python",
   "nbconvert_exporter": "python",
   "pygments_lexer": "ipython3",
   "version": "3.8.13"
  },
  "orig_nbformat": 4
 },
 "nbformat": 4,
 "nbformat_minor": 2
}
